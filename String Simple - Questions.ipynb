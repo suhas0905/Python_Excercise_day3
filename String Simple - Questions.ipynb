{
 "cells": [
  {
   "cell_type": "markdown",
   "metadata": {},
   "source": [
    "# String Simple Questions"
   ]
  },
  {
   "cell_type": "code",
   "execution_count": 1,
   "metadata": {},
   "outputs": [
    {
     "name": "stdout",
     "output_type": "stream",
     "text": [
      "6\n"
     ]
    }
   ],
   "source": [
    "'''1. Write a Python program to calculate the length of a given string.\n",
    "    Data:\n",
    "        \"Baskar\"\n",
    "    Expected Output:\n",
    "        6 '''\n",
    "\n",
    "s=\"Baskar\"\n",
    "print(len(s))\n",
    "        \n",
    "        \n",
    "        \n",
    "        "
   ]
  },
  {
   "cell_type": "code",
   "execution_count": 6,
   "metadata": {},
   "outputs": [
    {
     "name": "stdout",
     "output_type": "stream",
     "text": [
      "ython\n",
      "Pyton\n",
      "Pytho\n"
     ]
    }
   ],
   "source": [
    "'''2. Write a Python program to remove the character of the nth index from a given string. \n",
    "    Data:\n",
    "        \"Python\"\n",
    "    Expected Output:\n",
    "        ython\n",
    "        Pyton\n",
    "        Pytho '''\n",
    "s=\"Python\"\n",
    "print(s[1:])\n",
    "print(s[:3]+s[4:])\n",
    "print(s[:5])\n",
    "    \n",
    "    \n",
    "    "
   ]
  },
  {
   "cell_type": "code",
   "execution_count": 8,
   "metadata": {},
   "outputs": [
    {
     "name": "stdout",
     "output_type": "stream",
     "text": [
      "dbca\n",
      "52341\n"
     ]
    }
   ],
   "source": [
    "'''3. Write a Python program to interchange the first and last character of a given string.\n",
    "    Data:\n",
    "        'abcd'\n",
    "        '12345'\n",
    "    Expected Output:\n",
    "        dbca\n",
    "        52341 '''\n",
    "\n",
    "def swap_first_last(s):\n",
    "    if len(s) <= 1:\n",
    "        return s\n",
    "    return s[-1] + s[1:-1] + s[0]\n",
    "print(swap_first_last('abcd'))  \n",
    "print(swap_first_last('12345')) \n",
    "        \n",
    "        \n",
    "        \n",
    "        "
   ]
  },
  {
   "cell_type": "code",
   "execution_count": 9,
   "metadata": {},
   "outputs": [
    {
     "name": "stdout",
     "output_type": "stream",
     "text": [
      "ace\n",
      "pto\n"
     ]
    }
   ],
   "source": [
    "'''4. Write a Python program to remove the values of the odd index from a given string.\n",
    "    Data:\n",
    "        'abcdef'\n",
    "        'python'\n",
    "    Expected Output:\n",
    "        ace\n",
    "        pto '''\n",
    "s1 = 'abcdef'\n",
    "s2 = 'python'\n",
    "\n",
    "print(s1[::2])  \n",
    "print(s2[::2]) \n",
    "        \n",
    "        \n",
    "        \n",
    "        "
   ]
  },
  {
   "cell_type": "code",
   "execution_count": 29,
   "metadata": {},
   "outputs": [
    {
     "name": "stdin",
     "output_type": "stream",
     "text": [
      "Whats your favourite language:  Tamil\n"
     ]
    },
    {
     "name": "stdout",
     "output_type": "stream",
     "text": [
      "My favourite language is  TAMIL\n",
      "My favourite language is  tamil\n"
     ]
    }
   ],
   "source": [
    "'''5. Write a Python program to get input from the user and print the input back in uppercase.\n",
    "    Data:\n",
    "        Whats your favourite language: Tamil\n",
    "    Expected Output:\n",
    "        My favourite language is  TAMIL\n",
    "        My favourite language is  tamil '''\n",
    "\n",
    "language = input(\"Whats your favourite language: \")\n",
    "print(\"My favourite language is \", language.upper())\n",
    "print(\"My favourite language is \", language.lower())\n",
    "        \n",
    "        \n",
    "        \n",
    "        "
   ]
  },
  {
   "cell_type": "code",
   "execution_count": 12,
   "metadata": {},
   "outputs": [
    {
     "name": "stdin",
     "output_type": "stream",
     "text": [
      "Words :  red, white, black, red, green, black\n"
     ]
    },
    {
     "name": "stdout",
     "output_type": "stream",
     "text": [
      "black, green, red, white\n"
     ]
    }
   ],
   "source": [
    "'''6. Write a Python program that accepts a comma separated sequence of words as input and print only the unique strings in sorted.\n",
    "    Data:\n",
    "        Words : red, white, black, red, green, black\n",
    "    Expected Output:\n",
    "        black, green, red, white,red '''\n",
    "\n",
    "words = input(\"Words : \")\n",
    "unique_words = set(word.strip() for word in words.split(','))\n",
    "sorted_words = sorted(unique_words)\n",
    "print(', '.join(sorted_words))\n",
    "        \n",
    "        \n",
    "        \n",
    "        "
   ]
  },
  {
   "cell_type": "code",
   "execution_count": 14,
   "metadata": {},
   "outputs": [
    {
     "name": "stdout",
     "output_type": "stream",
     "text": [
      "<i>Python</i>\n",
      "<b>Python Tutorial </b>\n"
     ]
    }
   ],
   "source": [
    "'''7. Write a Python function to create the HTML string with tags around the string.\n",
    "    Data:\n",
    "        ('i', 'Python')\n",
    "        ('b', 'Python Tutorial')\n",
    "    Expected Output:\n",
    "        <i>Python</i>\n",
    "        <b>Python Tutorial </b> '''\n",
    "\n",
    "def html_string(tag, text):\n",
    "    return f\"<{tag}>{text}</{tag}>\"\n",
    "\n",
    "print(html_string('i', 'Python'))\n",
    "print(html_string('b', 'Python Tutorial '))\n",
    "        \n",
    "        \n",
    "        \n",
    "        "
   ]
  },
  {
   "cell_type": "code",
   "execution_count": 15,
   "metadata": {},
   "outputs": [
    {
     "name": "stdout",
     "output_type": "stream",
     "text": [
      "[[Python]]\n",
      "{{PHP}}\n"
     ]
    }
   ],
   "source": [
    "'''8. Write a Python function to insert the second string in the middle of a first string.\n",
    "    Data:\n",
    "        ('[[]]', 'Python')\n",
    "        ('{{}}', 'PHP')\n",
    "    Expected Output:\n",
    "        [[Python]]\n",
    "        {{PHP}} '''\n",
    "\n",
    "def insert_middle(wrapper, content):\n",
    "    mid = len(wrapper) // 2\n",
    "    return wrapper[:mid] + content + wrapper[mid:]\n",
    "print(insert_middle('[[]]', 'Python'))\n",
    "print(insert_middle('{{}}', 'PHP'))\n",
    "        \n",
    "        \n",
    "        \n",
    "        "
   ]
  },
  {
   "cell_type": "code",
   "execution_count": 28,
   "metadata": {},
   "outputs": [
    {
     "name": "stdout",
     "output_type": "stream",
     "text": [
      "onononon\n"
     ]
    }
   ],
   "source": [
    "'''9. Write a Python function to get a string made of 4 copies of the last two characters of a specified string \n",
    "    (length must be at least 2).\n",
    "    Data:\n",
    "        'Python'\n",
    "    Expected Output:\n",
    "        onononon '''\n",
    "\n",
    "def four_copies_last_two(s):\n",
    "    return s[-2:] * 4\n",
    "\n",
    "print(four_copies_last_two('Python')) \n",
    "        \n",
    "        \n",
    "        \n",
    "        "
   ]
  },
  {
   "cell_type": "code",
   "execution_count": 27,
   "metadata": {},
   "outputs": [
    {
     "name": "stdout",
     "output_type": "stream",
     "text": [
      "ipy\n",
      "pyt\n"
     ]
    }
   ],
   "source": [
    "'''10. Write a Python function to get a string made of its first three characters of a specified string. \n",
    "    If the length of the string is less than 3 then return the original string.\n",
    "    Data:\n",
    "        'ipy'\n",
    "        'python'\n",
    "    Expected Output:\n",
    "        ipy\n",
    "        pyt '''\n",
    "def first_three(s):\n",
    "    if len(s) < 3:\n",
    "        return s\n",
    "    else:\n",
    "        return s[:3]\n",
    "\n",
    "print(first_three('ipy'))     \n",
    "print(first_three('python'))  \n",
    "        \n",
    "        \n",
    "        "
   ]
  },
  {
   "cell_type": "code",
   "execution_count": 26,
   "metadata": {},
   "outputs": [
    {
     "name": "stdout",
     "output_type": "stream",
     "text": [
      "dcba\n",
      "python\n"
     ]
    }
   ],
   "source": [
    "'''11. Write a Python function to reverse a string if its length is a multiple of 4.\n",
    "    Data:\n",
    "        'abcd'\n",
    "        'python'\n",
    "    Expected Output:\n",
    "        dcba\n",
    "        python '''\n",
    "def reverse_if_multiple_of_4(s):\n",
    "    if len(s) % 4 == 0:\n",
    "        return s[::-1]\n",
    "    else:\n",
    "        return s\n",
    "print(reverse_if_multiple_of_4('abcd'))    \n",
    "print(reverse_if_multiple_of_4('python'))  \n",
    "        \n",
    "        \n",
    "        \n",
    "        "
   ]
  },
  {
   "cell_type": "code",
   "execution_count": 25,
   "metadata": {},
   "outputs": [
    {
     "name": "stdout",
     "output_type": "stream",
     "text": [
      "https://www.aidinasaur.com/python-exercises\n",
      "https://www.aidinasaur.com\n"
     ]
    }
   ],
   "source": [
    "'''12. Write a Python program to get the last part of a string before a specified character.\n",
    "    Data:\n",
    "        str1 = 'https://www.aidinasaur.com/python-exercises/string'\n",
    "    Expected Output:\n",
    "        https://www.aidinasaur.com/python-exercises\n",
    "        https://www.aidinasaur.com/python'''\n",
    "\n",
    "str1 = 'https://www.aidinasaur.com/python-exercises/string'\n",
    "last_slash = str1.rfind('/')\n",
    "part1 = str1[:last_slash]\n",
    "print(part1)\n",
    "\n",
    "second_last_slash = part1.rfind('/')\n",
    "part2 = part1[:second_last_slash]\n",
    "print(part2)\n",
    "\n",
    "            \n",
    "            \n",
    "            \n",
    "            "
   ]
  },
  {
   "cell_type": "code",
   "execution_count": 24,
   "metadata": {},
   "outputs": [
    {
     "name": "stdout",
     "output_type": "stream",
     "text": [
      "['a', 'a', 'a', 'd', 'i', 'i', 'n', 'r', 's', 'u']\n"
     ]
    }
   ],
   "source": [
    "'''13. Write a Python program to sort a string lexicographically.\n",
    "    Data:\n",
    "        aidinasaur\n",
    "    Expected Output: \n",
    "        ['a', 'a', 'a', 'd', 'i', 'i', 'n', 'r', 's', 'u'] '''\n",
    "s = \"aidinasaur\"\n",
    "sorted_chars = sorted(s)\n",
    "print(sorted_chars)\n",
    "        \n",
    "        \n",
    "    \n",
    "    "
   ]
  },
  {
   "cell_type": "code",
   "execution_count": 23,
   "metadata": {},
   "outputs": [
    {
     "name": "stdout",
     "output_type": "stream",
     "text": [
      "Python Exercises\n",
      "\n",
      "Python Exercises\n"
     ]
    }
   ],
   "source": [
    "'''14. Write a Python program to remove a newline in Python.\n",
    "    Data:\n",
    "        'Python Exercises\\n'\n",
    "    Expected Output: \n",
    "        Python Exercises\n",
    "\n",
    "        Python Exercises '''\n",
    "\n",
    "s = 'Python Exercises\\n'\n",
    "cleaned = s.strip()\n",
    "print(cleaned)\n",
    "print()\n",
    "print(cleaned)\n",
    "        \n",
    "        \n",
    "        \n",
    "        "
   ]
  },
  {
   "cell_type": "code",
   "execution_count": 22,
   "metadata": {},
   "outputs": [
    {
     "name": "stdout",
     "output_type": "stream",
     "text": [
      "True\n"
     ]
    }
   ],
   "source": [
    "'''15. Write a Python program to check whether a string starts with specified character.\n",
    "    Data:\n",
    "        aidinasaur.com\n",
    "    Expected Output:\n",
    "        True'''\n",
    "\n",
    "s = \"aidinasaur.com\"\n",
    "specified_char = 'a'\n",
    "\n",
    "result = s.startswith(specified_char)\n",
    "print(result)\n",
    "        \n",
    "        \n",
    "        "
   ]
  },
  {
   "cell_type": "code",
   "execution_count": 20,
   "metadata": {},
   "outputs": [
    {
     "name": "stdout",
     "output_type": "stream",
     "text": [
      "2\n"
     ]
    }
   ],
   "source": [
    "'''16. Write a Python program to count the number of occurrences of a substring in a string.\n",
    "    Data:\n",
    "        \"Word to publish Word docs as web pages\"\n",
    "        count = \"word\"\n",
    "    Expected Output:\n",
    "        2 '''\n",
    "\n",
    "data = \"Word to publish Word docs as web pages\"\n",
    "count_str = \"word\"\n",
    "occurrences = data.lower().count(count_str.lower())\n",
    "print(occurrences)\n",
    "        \n",
    "        \n",
    "        "
   ]
  },
  {
   "cell_type": "code",
   "execution_count": 19,
   "metadata": {},
   "outputs": [
    {
     "name": "stdout",
     "output_type": "stream",
     "text": [
      "fedcba\n",
      ".sesicrexE nohtyP\n"
     ]
    }
   ],
   "source": [
    "'''17. Write a Python program to reverse a string.\n",
    "    Data:\n",
    "        \"abcdef\"\n",
    "        \"Python Exercises.\"\n",
    "    Expected Output:\n",
    "        fedcba\n",
    "        .sesicrexE nohtyP '''\n",
    "\n",
    "s1 = \"abcdef\"\n",
    "s2 = \"Python Exercises.\"\n",
    "\n",
    "print(s1[::-1]) \n",
    "print(s2[::-1]) \n",
    "        \n",
    "        \n",
    "        "
   ]
  },
  {
   "cell_type": "code",
   "execution_count": 18,
   "metadata": {},
   "outputs": [
    {
     "name": "stdout",
     "output_type": "stream",
     "text": [
      "aidiNASAUR.COM\n"
     ]
    }
   ],
   "source": [
    "'''18. Write a Python program to lowercase first n characters in a string.\n",
    "    Data:\n",
    "        \"AIDINASAUR.COM\"\n",
    "    Expected Output:  \n",
    "        aidiNASAUR.COM '''\n",
    "s = \"AIDINASAUR.COM\"\n",
    "n = 4\n",
    "\n",
    "result = s[:n].lower() + s[n:]\n",
    "print(result)\n",
    "        \n",
    "        \n",
    "        \n",
    "        "
   ]
  },
  {
   "cell_type": "code",
   "execution_count": 17,
   "metadata": {},
   "outputs": [
    {
     "name": "stdout",
     "output_type": "stream",
     "text": [
      "32,054.23\n"
     ]
    }
   ],
   "source": [
    "'''19. Write a Python program to swap comma and dot in a string.\n",
    "    Data:\n",
    "        \"32.054,23\"\n",
    "    Expected Output:\n",
    "        \"32,054.23\" '''\n",
    "s = \"32.054,23\"\n",
    "s = s.replace('.', '#')\n",
    "s = s.replace(',', '.')\n",
    "s = s.replace('#', ',')\n",
    "\n",
    "print(s)\n",
    "\n",
    "      \n",
    "        \n",
    "        \n",
    "        "
   ]
  },
  {
   "cell_type": "code",
   "execution_count": 16,
   "metadata": {},
   "outputs": [
    {
     "name": "stdout",
     "output_type": "stream",
     "text": [
      "7\n",
      "['A', 'I', 'I', 'A', 'A', 'U', 'O']\n"
     ]
    }
   ],
   "source": [
    "'''20. Write a Python program to count and display the vowels of a given text.\n",
    "    Data:\n",
    "        \"AIDINASAUR.COM\"\n",
    "    Expected Output:\n",
    "        7\n",
    "        ['A', 'I', 'I', 'A', 'A', 'U', 'O'] '''\n",
    "data = \"AIDINASAUR.COM\"\n",
    "vowels = 'AEIOU'\n",
    "vowel_list = [char for char in data if char in vowels]\n",
    "\n",
    "# Print the count and the list\n",
    "print(len(vowel_list))\n",
    "print(vowel_list)     \n",
    "        \n",
    "        \n",
    "        "
   ]
  },
  {
   "cell_type": "code",
   "execution_count": null,
   "metadata": {},
   "outputs": [],
   "source": []
  }
 ],
 "metadata": {
  "kernelspec": {
   "display_name": "Python 3 (ipykernel)",
   "language": "python",
   "name": "python3"
  },
  "language_info": {
   "codemirror_mode": {
    "name": "ipython",
    "version": 3
   },
   "file_extension": ".py",
   "mimetype": "text/x-python",
   "name": "python",
   "nbconvert_exporter": "python",
   "pygments_lexer": "ipython3",
   "version": "3.12.7"
  }
 },
 "nbformat": 4,
 "nbformat_minor": 4
}
